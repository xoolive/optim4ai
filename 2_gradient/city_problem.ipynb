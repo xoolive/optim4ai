{
 "cells": [
  {
   "cell_type": "markdown",
   "id": "ee162e0a-2e4d-4f03-98f6-27f0f6ab205e",
   "metadata": {
    "nbpresent": {
     "id": "4b1e5fe4-3eba-440b-86de-51e0db2cb297"
    }
   },
   "source": [
    "# Solve the city placement problem\n",
    "\n",
    "Let's write the map reconstruction problem in a form that can be fed to an optimization solver. For this we will use the [`scipy.optimize`](https://docs.scipy.org/doc/scipy/reference/optimize.html#module-scipy.optimize) optimizers.\n",
    "\n",
    "Let's first load the data we have and define our objective function."
   ]
  },
  {
   "cell_type": "code",
   "execution_count": null,
   "id": "13a16e17-a4a0-4d6c-a7b0-faccc4286890",
   "metadata": {
    "ExecuteTime": {
     "end_time": "2019-02-15T10:21:28.471542Z",
     "start_time": "2019-02-15T10:21:28.445175Z"
    },
    "nbpresent": {
     "id": "e011cfc6-4c4d-4fd6-a26f-9f0339013520"
    }
   },
   "outputs": [],
   "source": [
    "import numpy as np\n",
    "\n",
    "cities = [\n",
    "    'Amsterdam', 'Athens', 'Barcelone', 'Belgrade', 'Berlin', 'Brussels',\n",
    "    'Bucarest', 'Budapest', 'Copenhagen', 'Dublin', 'Gibraltar', 'Helsinki',\n",
    "    'Istanbul', 'Kiev', 'Kiruna', 'Lisbon', 'London', 'Madrid',\n",
    "    'Milan', 'Moscow', 'Munich', 'Oslo', 'Paris', 'Prague',\n",
    "    'Reykjavik', 'Riga', 'Rome', 'Sofia', 'Stockholm', 'Tallinn',\n",
    "    'Toulouse', 'Trondheim', 'Varsovie', 'Vienne', 'Vilnius', 'Zurich'\n",
    "]\n",
    "n = len(cities)\n",
    "\n",
    "distances = np.load(\"distances.npy\")\n",
    "print(distances.shape)"
   ]
  },
  {
   "cell_type": "markdown",
   "id": "16fbde2c-a348-449d-a95a-a208b72a7caf",
   "metadata": {
    "nbpresent": {
     "id": "bcf8abeb-570c-45bb-86e4-a5599c9e43bd"
    }
   },
   "source": [
    "Note: you don't need to spend hours on the details of the function below. If you get how it is computed, it's great, otherwise you can admit that given an imput vector $x$ it computes the value of $f(x)$"
   ]
  },
  {
   "cell_type": "code",
   "execution_count": null,
   "id": "90d2b412-c628-4067-a78f-c00a74b6ad4a",
   "metadata": {},
   "outputs": [],
   "source": [
    "def criterion(*args):\n",
    "    \"\"\"Compute the map reconstruction objective function.\n",
    "\n",
    "    Vector reshaped for more readability.\n",
    "    \"\"\"\n",
    "    res = 0\n",
    "    x = np.array(args).reshape((n, 2))  # tuple -> np.array (2D)\n",
    "    for i in range(n):\n",
    "        for j in range(i + 1, n):\n",
    "            (x1, y1), (x2, y2) = x[i, :], x[j, :]\n",
    "            delta = (x2 - x1) ** 2 + (y2 - y1) ** 2 - distances[i, j] ** 2\n",
    "            res += delta ** 2\n",
    "    return res"
   ]
  },
  {
   "cell_type": "markdown",
   "id": "e6b252d0-491e-4f25-bd10-dc1acd53800c",
   "metadata": {
    "nbpresent": {
     "id": "808c2f24-cfa1-4af6-a9cb-33465ada7502"
    }
   },
   "source": [
    "Since we are dealing with a differentiable optimization problem, our optimization algorithms can use the objective function's **gradient**. Recall that the gradient of a differentiable function is the vector of derivatives with respect to all its coordinates.\n",
    "\n",
    "$$\\nabla_x f = \\frac{\\partial f}{\\partial x} = \\left(\\begin{array}{c} \\frac{\\partial f}{\\partial x_1}\\\\ \\vdots\\\\  \\frac{\\partial f}{\\partial x_n} \\end{array}\\right)$$\n",
    "\n",
    "A few words to recall what the gradient means. \n",
    "- Since the gradient's coordinates are equal to the derivatives in all directions, the gradient measures the *increase rate* in all directions.\n",
    "- The gradient is a vector in $\\mathbb{R}^n$ that points in the direction of the greatest increase rate. Its magnitude gives the slope in this direction.\n",
    "- The function's slope in the direction of any unit vector $u$ is given by $u^T \\nabla_x f(x)$."
   ]
  },
  {
   "cell_type": "markdown",
   "id": "ad7a69f0-368c-4d13-98c3-bf4610decc54",
   "metadata": {
    "nbpresent": {
     "id": "a17a2332-ac68-4a6d-92fb-edf5248e25b2"
    }
   },
   "source": [
    "In our case, we have:\n",
    "$$f(x) = \\sum\\limits_{i=1}^C \\sum\\limits_{j=i+1}^C \\left(\\left(x_i-x_j\\right)^2 + \\left(y_i-y_j\\right)^2 - d_{ij}^2\\right)^2$$\n",
    "\n",
    "So (after a somehow tedious calculation):\n",
    "$$\\frac{\\partial f}{\\partial x_k}(x) = \\sum\\limits_{i=1}^C \\sum\\limits_{j=i+1}^C 4 \\left(\\left(x_i-x_j\\right)^2 + \\left(y_i-y_j\\right)^2 - d_{ij}^2\\right) \\left(x_i-x_j\\right)(\\mathbb{1}_{i=k} - \\mathbb{1}_{j=k})$$\n",
    "And we have a similar formula for $\\frac{\\partial f}{\\partial y_k}(x)$."
   ]
  },
  {
   "cell_type": "code",
   "execution_count": null,
   "id": "59f96673-a683-446f-8d99-9fec1fb05666",
   "metadata": {
    "ExecuteTime": {
     "end_time": "2019-02-15T10:21:42.767024Z",
     "start_time": "2019-02-15T10:21:42.759702Z"
    },
    "nbpresent": {
     "id": "598fb58e-220c-46c9-8a44-27f7f57609e1"
    }
   },
   "outputs": [],
   "source": [
    "def gradient(*args):\n",
    "    \"\"\"Derivative of the map reconstruction objective function.\n",
    "\n",
    "    Note: (f \\circ g)' = g' \\times f' \\circ g\n",
    "    Vector reshaped for more readability.\n",
    "    \"\"\"\n",
    "    grad = np.zeros((n, 2))  # 2D-shaped\n",
    "    x = np.array(args).reshape((n, 2))  # tuple -> np.array (2D)\n",
    "    for i in range(n):\n",
    "        for j in range(i + 1, n):\n",
    "            (x1, y1), (x2, y2) = x[i, :], x[j, :]\n",
    "            delta = (x2 - x1) ** 2 + (y2 - y1) ** 2 - distances[i, j] ** 2\n",
    "            grad[i, 0] += 4 * (x1 - x2) * delta\n",
    "            grad[i, 1] += 4 * (y1 - y2) * delta\n",
    "            grad[j, 0] += 4 * (x2 - x1) * delta\n",
    "            grad[j, 1] += 4 * (y2 - y1) * delta\n",
    "    return np.ravel(grad)  # 1D-shaped"
   ]
  },
  {
   "cell_type": "markdown",
   "id": "18dd852b-603a-49c0-9961-53e94390de92",
   "metadata": {
    "nbpresent": {
     "id": "2a77dac8-aae6-40e9-843c-07d145e4d5bf"
    }
   },
   "source": [
    "Most optimization algorithms have a starting point $x_0$. They search the set of allowed points starting from $x_0$. Let's pick this one at random, then it's better to normalize the distance matrix as well: the convergence will look better when we plot it.\n",
    "\n",
    "Now we are ready to call our optimization solver. We could use the generic [`scipy.optimize.minimize`](https://docs.scipy.org/doc/scipy/reference/generated/scipy.optimize.minimize.html#scipy.optimize.minimize) function which allows to call every other minimizer in `scipy.optimize` using the `method` parameter.\n",
    "\n",
    "We will use the BFGS function so [`method=BFGS`](https://docs.scipy.org/doc/scipy/reference/optimize.minimize-bfgs.html#optimize-minimize-bfgs) which can be equivalently called using [`scipy.optimize.fmin_bfgs`](https://docs.scipy.org/doc/scipy/reference/generated/scipy.optimize.fmin_bfgs.html#scipy.optimize.fmin_bfgs) for a finer control over the optimization parameters. \n",
    "\n",
    "Feel free to edit the code and try other resolution methods."
   ]
  },
  {
   "cell_type": "code",
   "execution_count": null,
   "id": "9db05630-5792-4bc8-a32e-f94ef2b2a13e",
   "metadata": {
    "ExecuteTime": {
     "end_time": "2019-02-15T10:22:15.842514Z",
     "start_time": "2019-02-15T10:22:11.950025Z"
    },
    "nbpresent": {
     "id": "2bdc676f-4d69-41c3-acad-40a78d642471"
    }
   },
   "outputs": [],
   "source": [
    "import numpy.linalg as la\n",
    "import scipy.optimize as sopt\n",
    "\n",
    "# initial random position\n",
    "x0 = np.random.normal(size=(n, 2))\n",
    "\n",
    "# normalize distance matrix\n",
    "l1, l2 = np.meshgrid(x0[:, 0], x0[:, 0])\n",
    "r1, r2 = np.meshgrid(x0[:, 1], x0[:, 1])\n",
    "x0 /= la.norm(np.sqrt((l1 - l2) ** 2 + (r1 - r2) ** 2))\n",
    "distances /= la.norm(distances)\n",
    "\n",
    "solution = sopt.fmin_bfgs(criterion, np.ravel(x0), fprime=gradient, retall=True)"
   ]
  },
  {
   "cell_type": "markdown",
   "id": "82e44a79-9000-4ff0-b596-85b6bf67d8c8",
   "metadata": {
    "nbpresent": {
     "id": "6198bf33-cc5a-4d61-a1aa-e8124424feda"
    }
   },
   "source": [
    "The BFGS algorithm seems to have found  a solution. Setting the `retall` (return all) option to `True` allowed us to keep track of all the intermediate points the algorithm went throught (from $x_0$ to the optimal value of $x$). We shall call these points the *convergence path* and access them as `solution[1]` (as explained in the function's documentation). We will use these points to plot the \"trajectory\" of the cities on the map along the iterations, from the initial guess $x_0$ to their optimal location.\n",
    "\n",
    "As stated previously, the value found for $x$ remains optimal after any rotation, translation or mirroring in the $(x,y)$-plane so we actually have infinitely many solutions. Fortunately:\n",
    "- we can use the fact that Rome and Copenhagen are almost North-South aligned to fix the map's orientation;\n",
    "- we know that Reykjavik is west of Moscow, so we can decide whether a mirroring is necessary."
   ]
  },
  {
   "cell_type": "code",
   "execution_count": null,
   "id": "cb8e6550-4964-41e8-a93e-6ce1186c3225",
   "metadata": {
    "ExecuteTime": {
     "end_time": "2019-02-15T10:22:28.816263Z",
     "start_time": "2019-02-15T10:22:28.805924Z"
    },
    "nbpresent": {
     "id": "fda95db5-1bd0-470e-8d41-6dbc3f9bd81b"
    }
   },
   "outputs": [],
   "source": [
    "res = solution[0].reshape((n, 2))\n",
    "\n",
    "# rotate it so that Copenhagen is North of Rome\n",
    "south, north = cities.index(\"Rome\"), cities.index(\"Copenhagen\")\n",
    "d = res[north, :] - res[south, :]\n",
    "rotate = np.arctan2(d[1], d[0]) - np.pi / 2\n",
    "mat_rotate = np.array(\n",
    "    [[np.cos(rotate), -np.sin(rotate)], [np.sin(rotate), np.cos(rotate)]]\n",
    ")\n",
    "res = res @ mat_rotate\n",
    "\n",
    "# mirror so that Reykjavik is west of Moscow\n",
    "west, east = cities.index(\"Reykjavik\"), cities.index(\"Moscow\")\n",
    "mirror = False\n",
    "if res[west, 0] > res[east, 0]:\n",
    "    mirror = True\n",
    "    res[:, 0] *= -1\n",
    "\n",
    "# apply the transformation to the full convergence path\n",
    "path = [p.reshape((n, 2)) @ mat_rotate for p in solution[1]]\n",
    "if mirror:\n",
    "    path = [p * np.array([-1, 1]) for p in path]"
   ]
  },
  {
   "cell_type": "markdown",
   "id": "7e0b6f07-daec-49a8-b19a-14c88dd43a02",
   "metadata": {
    "nbpresent": {
     "id": "b7d23ea6-a455-4afe-a53e-7602afedd5ce"
    }
   },
   "source": [
    "And we can now plot all cities' positions along the convergence path.\n",
    "\n",
    "We manually set different parameters:\n",
    "- we trim the image 10% outside the square hull of the cities' positions;\n",
    "- we use colormaps to put some sense in this spaghetti soup;\n",
    "- we manually chose label placements so as to avoid overlaps and improve readability.\n",
    "\n",
    "Note that this last item could be subject to automated optimisation."
   ]
  },
  {
   "cell_type": "code",
   "execution_count": null,
   "id": "8a105733-cc52-4993-84a1-1fe78aee40e9",
   "metadata": {
    "ExecuteTime": {
     "end_time": "2019-02-15T10:22:41.450481Z",
     "start_time": "2019-02-15T10:22:39.878868Z"
    },
    "nbpresent": {
     "id": "fb6a4a5d-9576-4352-9ed7-269f2f95fdb2"
    }
   },
   "outputs": [],
   "source": [
    "%matplotlib inline\n",
    "import matplotlib.pyplot as plt\n",
    "import matplotlib.cm as cm\n",
    "\n",
    "fig, ax = plt.subplots(figsize=(10, 10))\n",
    "\n",
    "ax.set_xticklabels([])\n",
    "ax.set_yticklabels([])\n",
    "ax.set_axis_off()\n",
    "\n",
    "# Trimming the final image\n",
    "\n",
    "bx = min(res[:, 0]), max(res[:, 0])\n",
    "dx = bx[1] - bx[0]\n",
    "ax.set_xlim(bx[0] - 0.1 * dx, bx[1] + 0.1 * dx)\n",
    "\n",
    "by = min(res[:, 1]), max(res[:, 1])\n",
    "dy = by[1] - by[0]\n",
    "ax.set_ylim(by[0] - 0.1 * dy, by[1] + 0.1 * dy)\n",
    "\n",
    "# label placement: subject to automatic optimization!\n",
    "from collections import defaultdict\n",
    "\n",
    "d = defaultdict(lambda: {\"ha\": \"left\", \"va\": \"bottom\"})\n",
    "\n",
    "for city in [\n",
    "    \"Barcelona\",\n",
    "    \"Berlin\",\n",
    "    \"Bucarest\",\n",
    "    \"Budapest\",\n",
    "    \"Istanbul\",\n",
    "    \"Prague\",\n",
    "    \"Reykjavik\",\n",
    "    \"Sofia\",\n",
    "]:\n",
    "    d[city] = {\"ha\": \"left\", \"va\": \"top\"}\n",
    "for city in [\n",
    "    \"Athens\",\n",
    "    \"London\",\n",
    "    \"Munich\",\n",
    "    \"Milan\",\n",
    "    \"Stockholm\",\n",
    "]:\n",
    "    d[city] = {\"ha\": \"right\", \"va\": \"top\"}\n",
    "for city in [\n",
    "    \"Copenhagen\",\n",
    "    \"Dublin\",\n",
    "    \"Edinburgh\",\n",
    "    \"Gibraltar\",\n",
    "    \"Helsinki\",\n",
    "    \"Lisbon\",\n",
    "    \"Madrid\",\n",
    "    \"Nantes\",\n",
    "    \"Oslo\",\n",
    "    \"Paris\",\n",
    "    \"Toulouse\",\n",
    "]:\n",
    "    d[city] = {\"ha\": \"right\", \"va\": \"bottom\"}\n",
    "\n",
    "# automatic colouring\n",
    "colors = cm.rainbow(np.linspace(0, 1, n))\n",
    "\n",
    "for i, ((x, y), city, color) in enumerate(zip(res, cities, colors)):\n",
    "    t = np.array([t[i, :] for t in path[-20:]])\n",
    "    ax.plot(t[:, 0], t[:, 1], color=color, alpha=0.5)\n",
    "    ax.scatter(x, y, color=color)\n",
    "    ax.annotate(\"  \" + city + \"  \", (x, y), **d[city])"
   ]
  },
  {
   "cell_type": "markdown",
   "id": "85d4b5a8-3500-4001-9fad-56ba6333a8c4",
   "metadata": {
    "nbpresent": {
     "id": "5660662b-c7a2-46ec-851b-4da972d232c8"
    }
   },
   "source": [
    "What do you think? Does that look like a reasonable map of Europe?\n",
    "\n",
    "If we come back to the Mercator projection, it is actually fun to see how the optimisation process looks when we initialise positions with $(x, y)$ coordinates in the Mercator projection. If we initialise positions with a conformal projection, we are much closer to a map where distances are locally preserved.\n",
    "\n",
    "- Mercator projection:  \n",
    "  ![Mercator projection](../images/tracks_mercator.png)\n",
    "\n",
    "- Lambert conformal conical projection:  \n",
    "  ![LCC projection](../images/tracks_lcc.png)\n"
   ]
  },
  {
   "cell_type": "code",
   "execution_count": null,
   "id": "0674e05b-e0f3-4086-b85e-869b722beccf",
   "metadata": {},
   "outputs": [],
   "source": []
  }
 ],
 "metadata": {
  "kernelspec": {
   "display_name": "Python 3 (ipykernel)",
   "language": "python",
   "name": "python3"
  },
  "language_info": {
   "codemirror_mode": {
    "name": "ipython",
    "version": 3
   },
   "file_extension": ".py",
   "mimetype": "text/x-python",
   "name": "python",
   "nbconvert_exporter": "python",
   "pygments_lexer": "ipython3",
   "version": "3.10.0"
  }
 },
 "nbformat": 4,
 "nbformat_minor": 5
}
