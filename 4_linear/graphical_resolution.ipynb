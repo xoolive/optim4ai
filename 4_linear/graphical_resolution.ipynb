{
 "cells": [
  {
   "cell_type": "markdown",
   "id": "fe1f51c8-eed5-4f7e-b434-906225c1d03b",
   "metadata": {},
   "source": [
    "# Linear programming: graphical resolution\n",
    "\n",
    "(Notebook prepared by Alain Haït)\n"
   ]
  },
  {
   "cell_type": "code",
   "execution_count": null,
   "id": "a764d163-1fac-4423-8b48-b89596ec74f9",
   "metadata": {},
   "outputs": [],
   "source": [
    "import numpy as np\n",
    "\n",
    "from numpy.linalg import inv\n",
    "from lp_visu import LPVisu\n",
    "from scipy.optimize import linprog"
   ]
  },
  {
   "cell_type": "markdown",
   "id": "6d279212-00e0-4364-832e-e669780c1fd7",
   "metadata": {},
   "source": [
    "\n",
    "Consider the following LP problem:\n",
    "\n",
    "\\begin{alignat*}{3}\n",
    "(\\mathcal{P})\\qquad\\qquad \\max z=4 x_1 &+3x_2 &&\\\\\n",
    "\\text{under the constraints}& &&\\\\\n",
    "x_1& &&\\leq \\hphantom{1}8 \\qquad (1)\\\\\n",
    "x_1 &+2x_2 &&\\leq 15 \\qquad (2)\\\\\n",
    "2x_1 &+\\hphantom{2}x_2 &&\\leq 18 \\qquad (3)\\\\\n",
    "& \\hphantom{+\\_2}x_j &&\\geq \\hphantom{1}0 \\qquad j = 1,2.\n",
    "\\end{alignat*}\n",
    "\n",
    "The problem is in **canonical form** i.e. a maximization with inequality constraints $\\leq$ and positive variables.\n",
    "\n",
    "In a general way, the problem can be written as follows:\n",
    "\\begin{alignat*}{3}\n",
    "(\\mathcal{P})\\qquad\\qquad \\max z=c^Tx\\\\\n",
    "\\text{under the constraints}&\\\\\n",
    "Ax &\\leq b\\\\\n",
    "\\hphantom{A}x &\\geq \\hphantom{1}0\n",
    "\\end{alignat*}\n",
    "\n",
    "The matrix $A (m\\times n)$ contains the coefficients associated to **decision variables** $x$ in the constraints. Vector $c \\in \\mathbb{R}^n$ is the **cost vector** : the coefficients in the objective function. Vector $b \\in \\mathbb{R}^m$ represents the bounds of the constraints.\n",
    "\n",
    "## Feasible solutions\n",
    "\n",
    "The following code uses class `LPVisu()` to plot the set of feasible solutions of $(\\mathcal{P})$: the set of points $(x_1,x_2)$ that satisfy all the constraints of the problem. It is a convex polyhedron, intersection of the half-spaces defined by the constraints.\n",
    "\n",
    "\n"
   ]
  },
  {
   "cell_type": "markdown",
   "id": "c45a3771-e455-4374-8445-24b6db821560",
   "metadata": {},
   "source": [
    "<div class=\"alert alert-warning\"><b>Exercice:</b>\n",
    "    <p>Execute the following code.<br/>\n",
    "    Only one constraint has been considered. Complete matrices $A$ and $b$ in order to represent the set of feasible solutions of $(\\mathcal{P})$.</p>\n",
    "</div>"
   ]
  },
  {
   "cell_type": "code",
   "execution_count": null,
   "id": "4161d83f-4372-468b-ac3b-c6599b730a94",
   "metadata": {},
   "outputs": [],
   "source": [
    "A = [\n",
    "    [1.0, 2.0],\n",
    "]\n",
    "b = [\n",
    "    15.0,\n",
    "]\n",
    "c = [4.0, 3.0]\n",
    "\n",
    "\n",
    "LPVisu(A, b, c)"
   ]
  },
  {
   "cell_type": "code",
   "execution_count": null,
   "id": "a999545c-8bec-4f81-a342-385017bf616a",
   "metadata": {},
   "outputs": [],
   "source": [
    "# %load solutions/code1.py\n"
   ]
  },
  {
   "cell_type": "markdown",
   "id": "398b9881-f9da-4b46-a4a3-6b3ca2e678e6",
   "metadata": {},
   "source": [
    "A vertex of the polyhedron is a feasible point defined by the intersection of two constraints (as we are in $\\mathbb{R}^2$, it would be the intersection of $n$ constraints in $\\mathbb{R}^n$). These two constraints are called *active* or *binding* at this point (their slacks are equal to 0)."
   ]
  },
  {
   "cell_type": "markdown",
   "id": "e5b634bb-527e-4c39-908b-8beab7ba8a1a",
   "metadata": {},
   "source": [
    "<div class=\"alert alert-warning\"><b>Exercice:</b>\n",
    "<p>For problem $(\\mathcal{P})$, give the number of intersections of two constraints, and the number of vertices of the polyhedron.</p>\n",
    "</div>"
   ]
  },
  {
   "cell_type": "markdown",
   "id": "d58b357e-0ce0-4f70-91f3-dc70f0503e37",
   "metadata": {},
   "source": [
    "<details>\n",
    "    <summary><b>Solution</b> (click to unfold)\n",
    "    </summary>\n",
    "\n",
    "<div>\n",
    "    <ul>\n",
    "    <li>Number of intersections: 9</li>\n",
    "    <li>Number of vertices: 5</li>\n",
    "    </ul>\n",
    "</div>\n",
    "</details>"
   ]
  },
  {
   "cell_type": "markdown",
   "id": "10265ead-0b10-407f-b0af-4178e364d582",
   "metadata": {},
   "source": [
    "## Graphical solving\n",
    "\n",
    "For this maximization problem, we look for the feasible point(s) $x$ that give(s) the highest value of the objective function $z=c^Tx$.\n",
    "\n",
    "Remember that if an optimal solution exists, it must contain at least one vertex of the polyhedron of feasible solutions."
   ]
  },
  {
   "cell_type": "markdown",
   "id": "5818b9c5-efa9-4968-ab96-03244ba22a40",
   "metadata": {},
   "source": [
    "<div class=\"alert alert-warning\"><b>Exercice:</b>\n",
    "    <p>Argument <code>obj</code> in <code>LPVisu()</code> is used to plot, for a given value $z_0$, the set of points $x$ for which $c^Tx=z_0$ (red line on the chart).<br/>\n",
    "        Determine the optimal solution of $(\\mathcal{P})$ by changing the value of $z_0$.</p>\n",
    "</div>\n",
    "\n",
    "<details>\n",
    "    <summary><b>Solution</b> (click to unfold)\n",
    "    </summary>\n",
    "    <div>\n",
    "        <ul>\n",
    "            <li>Optimum value $z^*$: 40</li>\n",
    "            <li>Optimum vertex: $(7.0, 4.0)$</li>\n",
    "            <li>Active constraints at the optimum vertex:\n",
    "                <ul>\n",
    "                    <li>$x_1 + 2x_2 = 15$</li>\n",
    "                    <li>$2x_1 + x_2 = 18$</li>\n",
    "                </ul>\n",
    "            </li>\n",
    "            <li>Slacks associated to the other constraints at that point:\n",
    "                <ul>\n",
    "                    <li>$x_1 \\ge 0 ~\\to~ 7.0$</li>\n",
    "                    <li>$x_2 \\ge 0 ~\\to~ 4.0$</li>\n",
    "                    <li>$x_1 \\le 8 ~\\to~ 1.0$</li>\n",
    "                </ul>\n",
    "            </li>\n",
    "        </ul>\n",
    "    </div>\n",
    "</details>"
   ]
  },
  {
   "cell_type": "code",
   "execution_count": null,
   "id": "19f7765e-deda-4052-ba7d-72b1c578a974",
   "metadata": {},
   "outputs": [],
   "source": [
    "z0 = 50\n",
    "LPVisu(A, b, c, obj=z0)"
   ]
  },
  {
   "cell_type": "markdown",
   "id": "eba3018d-f668-4894-ab4e-c05d7978147c",
   "metadata": {},
   "source": [
    "## Standard form\n",
    "\n",
    "In the standard form, the constraints are presented as equalities. Any LP can be put in standard form.\n",
    "\n",
    "In order to transform inequalities into equalities, we add *slack variables* to the constraints.  \n",
    "This leads to add columns to matrix $A$. The new problem is: \n",
    "\n",
    "$$(\\mathcal{P})\\qquad\\qquad \\max z=c^Tx$$\n",
    "under the constraints\n",
    "\\begin{alignat*}{3}\n",
    "Ax &= b\\\\\n",
    "\\hphantom{A}x &\\geq \\hphantom{1}0\n",
    "\\end{alignat*}\n",
    "\n",
    "where $A$ is a ($m\\times p$) matrix, $p=n+m$, and $c$ and $x$ belong to $\\mathbb{R}^p$."
   ]
  },
  {
   "cell_type": "markdown",
   "id": "412666bf-94db-4235-bd04-bb7c1af1369f",
   "metadata": {},
   "source": [
    "<div class=\"alert alert-warning\"><b>Exercice:</b>\n",
    "    <p>In the following cell, give the modified matrix $A$ and vector $c$.</p>\n",
    "</div>"
   ]
  },
  {
   "cell_type": "code",
   "execution_count": null,
   "id": "dda8c505-7e6b-443b-a238-d5857c662831",
   "metadata": {},
   "outputs": [],
   "source": [
    "A = np.array(\n",
    "    [\n",
    "        [1.0, 0.0, 1.0, 0.0, 0.0],\n",
    "        [1.0, 2.0, 0.0, 1.0, 0.0],\n",
    "        [2.0, 1.0, 0.0, 0.0, 1.0],\n",
    "    ]\n",
    ")\n",
    "b = np.array([8.0, 15.0, 18.0])\n",
    "c = np.array([4.0, 3.0, 0.0, 0.0, 0.0])"
   ]
  },
  {
   "cell_type": "markdown",
   "id": "c71b59be-8757-49e0-bbd1-0a81d4880607",
   "metadata": {},
   "source": [
    "### Basis, basic solutions\n",
    "\n",
    "A set $\\{A_i\\ |\\ i\\in \\beta\\}$ of $m$ linearly independant columns of $A$ is a *basis* of $A$. The variables $\\{x_i\\ |\\ i\\in \\beta\\}$ corresponding to the indices $\\beta$ of the basis are called *basic variables*. We can partition the columns of $A$ in $(B,N)$ where $B$ is the nonsingular, square matrix of the basic columns and $N$ are the nonbasic columns. Correspondingly, we partition the variables $x$ into $(x_B, x_N)$.\n",
    "\n",
    "For any basis of $A$, the system $Ax=b$ is equivalent to $Bx_B+ Nx_N=b$. As $B$ is nonsingular, it is possible to multiply both sides by $B^{-1}$ to obtain an equivalent system: \n",
    "$$x_B =B^{-1}b-B^{-1}Nx_N$$\n",
    "The system is then written in the *simplicial form* associated to $B$.\n",
    "\n",
    "By fixing $x_N$ to 0, we obtain a *basic solution* of $(\\mathcal{P})$ where $x_B =B^{-1}b$ and $x_N =0$. If $x_B\\geq 0$, it is a *basic feasible solution* (*bfs*). At this point, $n$ nonbasic variables are null so $n$ constraints are active: it corresponds to a vertex of the polyhedron of feasible solutions of $(\\mathcal{P})$.\n",
    "\n"
   ]
  },
  {
   "cell_type": "markdown",
   "id": "70d9c2a2-ff6b-4cec-9bc1-961fd6d0ab34",
   "metadata": {},
   "source": [
    "### Objective function\n",
    "We use the simplicial form to rewrite the objective function $z=c^Tx=c_B^Tx_B+c_N^Tx_N$, replacing $x_B$ by its value:  \n",
    "\n",
    "$$z=c_B^TB^{-1}b+(c_N^T-c_B^TB^{-1}N)x_N$$\n",
    "\n",
    "\n",
    "At the basic solution, $x_N$ is fixed to 0. The basic variables are $x_B=B^{-1}b$ and the objective function is $z=c_B^TB^{-1}b$.\n",
    "\n"
   ]
  },
  {
   "cell_type": "markdown",
   "id": "1cfa8f4c-a61a-426f-8a33-07c12d205f09",
   "metadata": {},
   "source": [
    "### Initial basis\n",
    "\n",
    "The columns added to matrix $A$ when putting the problem into standard form give a straightforward basis, called $B_0$ and the system is already in the simplicial form."
   ]
  },
  {
   "cell_type": "markdown",
   "id": "faa6e230-bb8a-4ef4-b897-4f65b86afaa2",
   "metadata": {},
   "source": [
    "<div class=\"alert alert-warning\"><b>Exercice:</b>\n",
    "<p>Give the basic solution associated to $B_0$ and the value of the objective function at this point.</p>\n",
    "</div>"
   ]
  },
  {
   "cell_type": "markdown",
   "id": "83e4a3c2-79a4-4d0a-80e9-2b7102d7d0b7",
   "metadata": {},
   "source": [
    "<details>\n",
    "    <summary><b>Solution</b> (click to unfold)\n",
    "    </summary>\n",
    "    <div>\n",
    "        <ul>\n",
    "            <li>Basic solution: $x:[ x_1 = 0, x_2 = 0 ]$</li>\n",
    "            <li>Objective function: $z = 0$</li>\n",
    "        </ul>\n",
    "    </div>\n",
    "</details>\n"
   ]
  },
  {
   "cell_type": "markdown",
   "id": "c4bed7fa-6b9c-4293-ba07-bc9d4d8c588e",
   "metadata": {},
   "source": [
    "### Other bases\n",
    "\n",
    "Let $B_1$ correspond to columns 1, 2 and 4 of matrix $A$. The following code computes the basic solution associated to $B_1$ and the value of z at this point."
   ]
  },
  {
   "cell_type": "code",
   "execution_count": null,
   "id": "b82faa41-4e5c-488a-8e78-ace74e6d20ab",
   "metadata": {},
   "outputs": [],
   "source": [
    "# Column numbers\n",
    "col = [1, 2, 4]\n",
    "\n",
    "B1 = np.concatenate(\n",
    "    (\n",
    "        A[0:, col[0] - 1 : col[0]],\n",
    "        A[0:, col[1] - 1 : col[1]],\n",
    "        A[0:, col[2] - 1 : col[2]],\n",
    "    ),\n",
    "    axis=1,\n",
    ")\n",
    "print(\"B1=\", B1)\n",
    "\n",
    "cB1 = np.concatenate(\n",
    "    (\n",
    "        c[col[0] - 1 : col[0]],\n",
    "        c[col[1] - 1 : col[1]],\n",
    "        c[col[2] - 1 : col[2]],\n",
    "    ),\n",
    "    axis=0,\n",
    ")\n",
    "print(\"cB1=\", cB1)\n",
    "\n",
    "xB1 = np.dot(inv(B1), b)\n",
    "print(\"xB1=\", xB1)\n",
    "\n",
    "zB1 = np.dot(cB1, xB1)\n",
    "print(\"zB1=\", zB1)"
   ]
  },
  {
   "cell_type": "markdown",
   "id": "0b6a4197-62a9-496f-8234-c662696290c6",
   "metadata": {},
   "source": [
    "At the basic solution associated to $B_1$, the basic variables are $x_1=8$, $x_2=2$ and $x_4=3$.\n",
    "\n",
    "Nonbasic variables $x_3=x_5=0$ are the slack variables associated to constraints (1) and (3).\n",
    "\n",
    "The basic solution is the vertex of the polyhedron intersection of these constraints.  \n",
    "At this point, constraint (2) is not active, the slack is $x_4=3$."
   ]
  },
  {
   "cell_type": "markdown",
   "id": "3fc7aa7e-0ca6-417c-9ae6-1493ecb5624e",
   "metadata": {},
   "source": [
    "<div class=\"alert alert-warning\"><b>Exercice</b>\n",
    "    <p>\n",
    "Let $B_2$ correspond to columns 1, 2 and 5 of matrix $A$. Copy and modify the code in the following cell.<br/>\n",
    "Execute the code and comment the results for $B_2$.\n",
    "    </p>\n",
    "</div>\n",
    "\n",
    "<details>\n",
    "    <summary><b>Solution</b> (click to unfold)\n",
    "    </summary>\n",
    "    <div>\n",
    "        <p>The basic solution associated to $B_2$ is such that the basic variables and their values are:</p>\n",
    "        <ul>\n",
    "            <li>$x_1 = 8.0$</li>\n",
    "            <li>$x_2 = 3.5$</li>\n",
    "            <li>$x_5 = -1.5$</li>\n",
    "        </ul>\n",
    "        <p>Nonbasic variables $x_3$ and $x_4$ are the slack variables associated to constraints (1) and (2).</p>\n",
    "        <p>$B_2$ does not represent an acceptable solution, as $x_5 < 0$. Notice that the corresponding point $(8.0, 3.5)$ is not a vertex of the polyhedron, hence the non acceptability.</p>\n",
    "    </div>\n",
    "</details>\n"
   ]
  },
  {
   "cell_type": "code",
   "execution_count": null,
   "id": "12d8c3db-995d-48b2-beba-62145b574504",
   "metadata": {},
   "outputs": [],
   "source": []
  },
  {
   "cell_type": "code",
   "execution_count": null,
   "id": "fa3a2276-e68f-4221-b28e-d1645bc409dd",
   "metadata": {},
   "outputs": [],
   "source": [
    "# %load solutions/code2.py"
   ]
  },
  {
   "cell_type": "markdown",
   "id": "f2629296-2d7e-4565-861d-0e25e17b65e5",
   "metadata": {},
   "source": [
    "<div class=\"alert alert-warning\"><b>Exercice:</b>\n",
    "    <p>Let $B_3$ correspond to columns 2, 4 and 5 of matrix $A$. Copy and modify the code in the following cell.<br/>\n",
    "        Execute the code and comment the results for $B_3$.</p>\n",
    "</div>\n",
    "\n",
    "<details>\n",
    "    <summary><b>Solution</b> (click to unfold)\n",
    "    </summary>\n",
    "    <div>\n",
    "        \n",
    "$B_3$ is singular, it cannot be inversed. This is intuitive, as the corresponding active constraints are\n",
    "* $x_1 \\ge 0$ (as $x_1 = 0$)\n",
    "* $x_1 \\le 8$ (as $x_3 = 0$)\n",
    "\n",
    "which do not have an intersection.\n",
    "        \n",
    "</div></details>"
   ]
  },
  {
   "cell_type": "code",
   "execution_count": null,
   "id": "0d7bc0b3-73e1-41db-8b5c-e27c0667f89e",
   "metadata": {},
   "outputs": [],
   "source": []
  },
  {
   "cell_type": "code",
   "execution_count": null,
   "id": "8e21f93e-aaf0-44ad-bbb0-ede6c33dee03",
   "metadata": {},
   "outputs": [],
   "source": [
    "# %load solutions/code3.py"
   ]
  },
  {
   "cell_type": "markdown",
   "id": "f9a8a144-011d-4b51-955c-38089a9d46d4",
   "metadata": {},
   "source": [
    "<div class=\"alert alert-warning\"><b>Exercice</b>\n",
    "    \n",
    "How many bases may we find in matrix $A$ ? Is it consistant with the number of intersections found at question 1 ?\n",
    "\n",
    "</div>"
   ]
  },
  {
   "cell_type": "markdown",
   "id": "87725525-81d1-47b1-ad7c-8927e30c1d93",
   "metadata": {},
   "source": [
    "<details>\n",
    "    <summary><b>Solution</b> (click to unfold)\n",
    "    </summary>\n",
    "    <div>\n",
    "    \n",
    "There may be $\\binom 5 2 = 10$ bases, as we have to choose two slack variables to be set to 0.\n",
    "        \n",
    "This is consistent with the number of intersections (9).\n",
    "        \n",
    "</div>\n",
    "</details>"
   ]
  },
  {
   "cell_type": "code",
   "execution_count": null,
   "id": "0ec94560-f030-42be-a9b8-033ecf72e601",
   "metadata": {},
   "outputs": [],
   "source": []
  }
 ],
 "metadata": {
  "kernelspec": {
   "display_name": "Python 3 (ipykernel)",
   "language": "python",
   "name": "python3"
  },
  "language_info": {
   "codemirror_mode": {
    "name": "ipython",
    "version": 3
   },
   "file_extension": ".py",
   "mimetype": "text/x-python",
   "name": "python",
   "nbconvert_exporter": "python",
   "pygments_lexer": "ipython3",
   "version": "3.10.0"
  }
 },
 "nbformat": 4,
 "nbformat_minor": 5
}
