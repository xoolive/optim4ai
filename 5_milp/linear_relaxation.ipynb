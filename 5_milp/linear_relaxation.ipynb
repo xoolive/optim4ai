{
 "cells": [
  {
   "cell_type": "markdown",
   "id": "01a2b239-c427-4645-bdc3-9dd4129955ea",
   "metadata": {},
   "source": [
    "# Mixed integer linear programming: linear relaxation\n",
    "\n",
    "(Notebook prepared by Alain Haït)\n"
   ]
  },
  {
   "cell_type": "code",
   "execution_count": null,
   "id": "b55d9f1c-0b62-40db-9d24-5799c7d4b015",
   "metadata": {},
   "outputs": [],
   "source": [
    "import numpy as np\n",
    "\n",
    "from numpy.linalg import inv\n",
    "from lp_visu import LPVisu\n",
    "from scipy.optimize import linprog"
   ]
  },
  {
   "cell_type": "markdown",
   "id": "b6e36991-c1db-4383-9bc8-f3eae09e2e12",
   "metadata": {},
   "source": [
    "Consider the following LP problem:\n",
    "\n",
    "$$\\max z= 19x_1 +20x_2$$\n",
    "\n",
    "under the constraints:\n",
    "\n",
    "\\begin{alignat*}{3}\n",
    " 15x_1 &+17x_2 &&\\leq 72 \\\\\n",
    "& x_j \\in \\mathbb{N} &&\\qquad j = 1,2.\n",
    "\\end{alignat*}"
   ]
  },
  {
   "cell_type": "code",
   "execution_count": null,
   "id": "1bc8094c-017e-4993-8409-44d444a52915",
   "metadata": {},
   "outputs": [],
   "source": [
    "A = [[15.0, 17.0]]\n",
    "b = [72.0]\n",
    "c = [19.0, 20.0]\n",
    "\n",
    "LPVisu(A, b, c, integers=True)"
   ]
  },
  {
   "cell_type": "markdown",
   "id": "8568cfb9-ec4f-482d-81c2-3455cde347d1",
   "metadata": {},
   "source": [
    "Let us define the *relaxed* problem where we change integrity constraints $x_j\\in \\mathbb{N}$ into positivity constraints $x_j \\geq 0$. \n",
    "\n",
    "We denote by $X_\\mathbb{R}$ the set of feasible solutions of the relaxed problem. It is continuous and corresponds to the green polyhedron on the figure above. $X$ is the set of feasible solutions of $(\\mathcal{P})$. It is discrete and corresponds to the blue points $x \\in \\mathbb{N}^2$ located in $(\\mathcal{P}_\\mathbb{R})$\n",
    "\n",
    "\n",
    "Given that $(\\mathcal{P}_\\mathbb{R})$ is a LP problem, we can use `linprog()` to solve it. "
   ]
  },
  {
   "cell_type": "code",
   "execution_count": null,
   "id": "c1eafe12-7522-4f09-8fe5-c6b24e0ce3e2",
   "metadata": {},
   "outputs": [],
   "source": [
    "from scipy.optimize import linprog\n",
    "\n",
    "res = linprog(-np.array(c), A_ub=A, b_ub=b, method=\"simplex\")\n",
    "print(res)"
   ]
  },
  {
   "cell_type": "markdown",
   "id": "60dd7bbb-348a-4ad2-ac5f-ace4a9e87b9a",
   "metadata": {},
   "source": [
    "The optimum vertex is $x_\\mathbb{R}^* = (4.8,0)$ for an optimum value $z_\\mathbb{R}^*=91.2$"
   ]
  },
  {
   "cell_type": "markdown",
   "id": "1d4f37c2-b446-40a8-8655-c04d1872725b",
   "metadata": {},
   "source": [
    "<div class=\"alert alert-warning\"><b>Exercice:</b>\n",
    "    <p>Use argument <code>obj=</code> in <code>LPVisu()</code> to plot the set of points $x$ for which $c^Tx=z_\\mathbb{R}^*$ (red line on the chart).  </p>\n",
    "</div>"
   ]
  },
  {
   "cell_type": "code",
   "execution_count": null,
   "id": "744f2ae8-d903-4064-b899-26e771e88301",
   "metadata": {},
   "outputs": [],
   "source": [
    "LPVisu(A, b, c, integers=True, obj=50)"
   ]
  },
  {
   "cell_type": "markdown",
   "id": "96dd5919-8edd-4589-9e78-de64644939f7",
   "metadata": {},
   "source": [
    "Now we are going to solve \"manually\" the initial problem ($\\mathcal{P}$).  \n",
    "We look for the feasible solution $x$ that maximizes $19x_1+20x_2$. "
   ]
  },
  {
   "cell_type": "markdown",
   "id": "17eb80d1-ff46-48ff-a020-34778c2358ec",
   "metadata": {},
   "source": [
    "<div class=\"alert alert-warning\"><b>Exercice:</b>\n",
    "<p>Change the value of <code>z0</code> in order to find the best feasible solution of ($\\mathcal{P}$).</p>\n",
    "<div>"
   ]
  },
  {
   "cell_type": "code",
   "execution_count": null,
   "id": "e3960ec5-99ee-4994-9af4-18a4389f555e",
   "metadata": {},
   "outputs": [],
   "source": [
    "LPVisu(A, b, c, integers=True, obj=50)"
   ]
  },
  {
   "cell_type": "markdown",
   "id": "de89ce9f-2db1-4682-8f07-c642d7793ca0",
   "metadata": {},
   "source": [
    "<div class=\"alert alert-danger\"><b>Important!</b>\n",
    "    <p>What the story tells us here is that the optimum vertex of the problem $(\\mathcal{P})$ is <strong>not necessarily</strong> the point of $(\\mathcal{P}_\\mathbb{R})$ which is the closest to the solution of the linear relaxation. Here, the number of points with integer coordinates looks reasonable, but consider it's a power of $n$ if we have $n$ decision variables, so enumerating them is not an option.</p>\n",
    "<div>"
   ]
  },
  {
   "cell_type": "markdown",
   "id": "5c445853-ed41-4bd6-8bfb-4a323df65f89",
   "metadata": {},
   "source": [
    "## Solving integer programming problems\n",
    "\n",
    "Now consider the following ILP problem:\n",
    "\n",
    "$$\\max z= x_1 +2x_2$$\n",
    "under the constraints\n",
    "\\begin{alignat*}{3}\n",
    "4&x_1 +\\phantom{4}&&x_2 \\leq 28 \\qquad (1)\\\\\n",
    "&x_1 +4&&x_2 \\leq 27 \\qquad (2)\\\\\n",
    "&x_1 -&&x_2 \\leq \\phantom{2}2 \\qquad (3)\\\\\n",
    "& x_j \\in \\mathbb{N} &&\\qquad j = 1,2.\n",
    "\\end{alignat*}\n",
    "\n",
    "To define the relaxed problem $(\\mathcal{Q}_\\mathbb{R})$ we change integrity constraints into positivity constraints.  \n",
    "We denote by $X$ the set of feasible solutions of $(\\mathcal{Q})$ and by $X_\\mathbb{R}$ the one of $(\\mathcal{Q}_\\mathbb{R})$. \n",
    "$$X \\subseteq X_\\mathbb{R}$$\n",
    "\n",
    "Execute the cell below to solve the linear relaxation $(\\mathcal{Q}_\\mathbb{R})$."
   ]
  },
  {
   "cell_type": "code",
   "execution_count": null,
   "id": "d1665668-6655-4855-b7ca-5079443db150",
   "metadata": {},
   "outputs": [],
   "source": [
    "# problem definition\n",
    "A = [[4.0, 1.0], [1.0, 4.0], [1.0, -1.0]]\n",
    "b = [28.0, 27.0, 2.0]\n",
    "c = np.array([1.0, 2.0])\n",
    "\n",
    "res = linprog(-c, A_ub=A, b_ub=b, method=\"simplex\")\n",
    "LPVisu(A, b, c, integers=True, obj=-res.fun, xk=res.x)"
   ]
  },
  {
   "cell_type": "markdown",
   "id": "40ce1c9d-2d89-4338-b721-bc0988a2f4ba",
   "metadata": {},
   "source": [
    "Note that the optimum solution of $(\\mathcal{Q}_\\mathbb{R})$ is located on a vertex where $x_1$ and $x_2$ are not integer. It is not a feasible solution of $(\\mathcal{Q})$, but it is a feasible solution of $(\\mathcal{Q}_\\mathbb{R})$. \n",
    "\n",
    "In order to solve problem $(\\mathcal{Q})$, we would like to find a new formulation $(\\mathcal{Q}')$, with the same set of feasible solutions $X'= X$, whose relaxation give an integer optimum solution. To that aim, let us consider the **convex hull** of the solutions of $(\\mathcal{Q})$. As $X_\\mathbb{R}$ is a convex polyhedron and as the points of $X$ belong to $X_\\mathbb{R}$, we have\n",
    "$$X \\subseteq \\textrm{convex hull}(X) \\subseteq X_\\mathbb{R}$$\n",
    "\n",
    "As the optimum solution of $(\\mathcal{Q}_\\mathbb{R})$ is not integer, we have \n",
    "$$\\textrm{convex hull}(X) \\subset X_\\mathbb{R}$$\n",
    "\n",
    "So in order to solve problem $(\\mathcal{Q})$, we would like to find a new formulation $(\\mathcal{Q}')$ of it, whose relaxed feasible set is the convex hull of the feasible solutions of $(\\mathcal{Q})$: \n",
    "$$\\textrm{convex hull}(X) = X'_\\mathbb{R}$$\n",
    "\n",
    "Hence solving the relaxation $(\\mathcal{Q}'_\\mathbb{R})$ would lead to an optimum vertex of $X'_\\mathbb{R}$ which is integer: the optimum of the relaxation and the optimum of $(\\mathcal{Q})$ are the same.  \n",
    "Such a formulation is called an **ideal formulation**."
   ]
  },
  {
   "cell_type": "markdown",
   "id": "96ed502f-7458-4a85-bdd9-ac9f1451655a",
   "metadata": {},
   "source": [
    "<div class=\"alert alert-warning\"><b>Exercice:</b>\n",
    "<p>Propose an ideal formulation of $(\\mathcal{Q})$ and solve it.<p>\n",
    "<div>"
   ]
  },
  {
   "cell_type": "markdown",
   "id": "223b73b5-f154-4a1c-8257-c97ea2584342",
   "metadata": {},
   "source": [
    "<details>\n",
    "    <summary><b>Solution:</b> (Click to unfold)</summary>\n",
    "$$\\max z= x_1 +2x_2$$\n",
    "\n",
    "under the constraints\n",
    "\n",
    "\\begin{alignat*}{3}\n",
    "& &&x_2 \\leq \\phantom{1}6  \\qquad (1)\\\\\n",
    "&x_1 +2&&x_2 \\leq 15 \\qquad (2)\\\\\n",
    "&x_1 +\\phantom{4}&&x_2 \\leq 10 \\qquad (3)\\\\\n",
    "&x_1 -&&x_2 \\leq \\phantom{1}2 \\qquad (4)\\\\\n",
    "& x_j \\in \\mathbb{N} &&\\qquad j = 1,2.\n",
    "\\end{alignat*}\n",
    "</details>"
   ]
  },
  {
   "cell_type": "code",
   "execution_count": null,
   "id": "1606d274-4de7-46ec-a376-d35a1bece972",
   "metadata": {},
   "outputs": [],
   "source": [
    "# %load solutions/code1.py"
   ]
  },
  {
   "cell_type": "markdown",
   "id": "6ee444bb-d549-41cf-b8a8-525cbdb5430f",
   "metadata": {},
   "source": [
    "<div class=\"alert alert-danger\"><b>Important!</b>\n",
    "    <p>Actually, enumerating points and computing their convex hull as we did here is a difficult problem, and so is MILP.<br/> \n",
    "    We need specific search methods: before developping the <strong>Branch & Bound algorithm</strong> (next notebook), we will demonstrate how we can come closer to integer coordinates with cutting planes.</p>\n",
    "<div>"
   ]
  },
  {
   "cell_type": "markdown",
   "id": "af8b533b-197f-4e67-bbd6-3a27e80f33f8",
   "metadata": {},
   "source": [
    "## Cutting planes\n",
    "\n",
    "This technique consists in adding constraints to the problem until the optimum of the relaxed problem matches the one of the initial problem. The idea is to iteratively cut the relaxed set of feasible solutions in order to match the convex hull of the initial problem in the area where the optimum is supposed to be located.\n",
    "\n",
    "To ensure the succes of the approach, some rules must be respected:\n",
    "\n",
    "- The new constraint **must not** exclude any feasible (integer) solution of ($\\mathcal{P}$) otherwise the problem is not the same and one could loose the optimum of ($\\mathcal{P}$)  \n",
    "- The new constraint **must** exclude the current (non-integer) optimum of ($\\mathcal{P}_R$) otherwise the solution of the new relaxation would be the same as the current one\n",
    "\n",
    "Many kinds of cuts exist: some are specific to a particular problem, others are generic. The challenge is to find the most powerful cuts: the ones that lead as closed as possible to the convex hull of the integer solutions (ideally a facet of this convex hull). Hence the quality of the relaxation is highly improved without adding too many constraints to the problem.\n",
    "\n",
    "### Rounding cut on the value of the objective function\n",
    "\n",
    "We can build this kind of cuts by looking at the objective function:\n",
    "\n",
    "$$\\max z= x_1 +2x_2$$\n",
    "\n",
    "Remark that the coefficients of the objective function are integer. As $x_1$ and $x_2$ are also integer, the value of the objective function should be an integer.\n",
    "\n",
    "<div class=\"alert alert-warning\"><b>Exercice:</b>\n",
    "<p>Come back to the initial problem $(\\mathcal{Q})$.<br/>\n",
    "Propose a rounding cut based on the solution of the relaxation $(\\mathcal{Q}_\\mathbb{R})$. Add it to the problem and solve it again.</p>\n",
    "</div>\n",
    "\n",
    "<details>\n",
    "    <summary><b>Solution</b> (Click to unfold)</summary>\n",
    "    \n",
    "$$x_1+2x_2 \\leq \\lfloor 49/3\\rfloor$$\n",
    "    \n",
    "Note that this solution is still not an optimum for $(\\mathcal{Q})$\n",
    "</details>"
   ]
  },
  {
   "cell_type": "code",
   "execution_count": null,
   "id": "1a901035-ead9-416e-85c7-7581828a8f49",
   "metadata": {},
   "outputs": [],
   "source": [
    "# %load solutions/code2.py"
   ]
  },
  {
   "cell_type": "code",
   "execution_count": null,
   "id": "2327704c-6134-4d67-8e56-8097c9dbd0be",
   "metadata": {},
   "outputs": [],
   "source": []
  }
 ],
 "metadata": {
  "kernelspec": {
   "display_name": "Python 3 (ipykernel)",
   "language": "python",
   "name": "python3"
  },
  "language_info": {
   "codemirror_mode": {
    "name": "ipython",
    "version": 3
   },
   "file_extension": ".py",
   "mimetype": "text/x-python",
   "name": "python",
   "nbconvert_exporter": "python",
   "pygments_lexer": "ipython3",
   "version": "3.10.0"
  }
 },
 "nbformat": 4,
 "nbformat_minor": 5
}
