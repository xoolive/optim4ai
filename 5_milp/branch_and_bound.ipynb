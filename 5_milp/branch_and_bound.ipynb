{
 "cells": [
  {
   "cell_type": "markdown",
   "id": "e2e6f3a4-bff2-4ac9-be97-4b0dcdf32fd5",
   "metadata": {},
   "source": [
    "# Mixed integer linear programming: Branch & Bound\n",
    "\n",
    "(Notebook prepared by Alain Haït)\n",
    "\n",
    "Let's recall the definition of our problem."
   ]
  },
  {
   "cell_type": "code",
   "execution_count": null,
   "id": "2372f3cb-6149-4752-ac73-5beede62e073",
   "metadata": {},
   "outputs": [],
   "source": [
    "import numpy as np\n",
    "from lp_visu import LPVisu\n",
    "from scipy.optimize import linprog\n",
    "\n",
    "# problem definition\n",
    "A = [[4.0, 1.0], [1.0, 4.0], [1.0, -1.0]]\n",
    "b = [28.0, 27.0, 2.0]\n",
    "c = np.array([1.0, 2.0])\n",
    "\n",
    "res = linprog(-c, A_ub=A, b_ub=b, method=\"simplex\")\n",
    "print(res)\n",
    "LPVisu(A, b, c, integers=True, obj=-res.fun, xk=res.x)"
   ]
  },
  {
   "cell_type": "markdown",
   "id": "c219549b-06e7-4f66-8f49-b1a6cf74a650",
   "metadata": {},
   "source": [
    "Branch & Bound consists in two steps:\n",
    "\n",
    "- **branching**: separate the set of feasible solutions in a number of subsets in order to reach integer solutions on the subsets by solving relaxations, or\n",
    "- to conclude on the presence of the optimum in a subset according to the value of its **bounding** (generally the optimum value of the linear relaxation).\n",
    "\n",
    "If it not possible to conclude on a subset, it must be separed again.\n",
    "\n",
    "To ensure the succes of the approach, some rules must be respected:\n",
    "- Branching **must not** create or exclude any feasible (integer) solution of ($\\mathcal{P}$): the union of all the subsets equals the inital set of integer solutions  \n",
    "- The bound of a subset **must** give an *optimistic* value of the integer optimum in the subset. It is the case if it corresponds to the linear relaxation of the problem\n",
    "\n",
    "The challenge is to reach the solution as quickly as possible. It mainly depends on the quality of the bounding and the way to develop the search graph (branching and choice of the node to develop). Solvers, commercial or not, include many other features in order to improve their efficiency.\n",
    "\n",
    "So at each step, we bound our objective function with:\n",
    "\n",
    "- a **lower bound** (LB), i.e. the best known **integer** solution to our problem (in any subset);\n",
    "- an **upper bound** (UB), i.e. the solution to the linear relaxation in the subproblem we consider.\n",
    "\n",
    "If at some point, we have LB = UB, then we are sure to have found the solution to our subproblem."
   ]
  },
  {
   "cell_type": "markdown",
   "id": "10d9a334-65a3-4b5a-a2f2-8abcca39cba2",
   "metadata": {},
   "source": [
    "<div class=\"alert alert-warning\"><b>Exercice:</b>\n",
    "Come back to the initial problem $(\\mathcal{Q})$.<br/>\n",
    "Solve the problem  by the branch and bound approach. The initial set of solutions will be separated into two subsets according to the values of $x_2$.\n",
    "<div>"
   ]
  },
  {
   "cell_type": "code",
   "execution_count": null,
   "id": "9522318e-338c-4626-bbb9-9d6ee6512ea0",
   "metadata": {},
   "outputs": [],
   "source": [
    "print(res)"
   ]
  },
  {
   "cell_type": "markdown",
   "id": "cd1d2636-5a1e-4e94-9083-eaaf192bca10",
   "metadata": {},
   "source": [
    "The optimum solution of the relaxation has no integer solution: it is impossible to conclude.\n",
    "\n",
    "- we have LB = 0, UB = 16. (**bounds**)\n",
    "- **branching**:\n",
    "    - subset 1: we add the constraint $x_2 \\geq \\lceil 16/3 \\rceil$\n",
    "    - subset 2: we add the constraint $x_2 \\leq \\lfloor 16/3 \\rfloor$\n"
   ]
  },
  {
   "cell_type": "markdown",
   "id": "ca50ce3e-4195-44da-8a7a-ff85f3e64ab4",
   "metadata": {},
   "source": [
    "<div class=\"alert alert-warning\">\n",
    "    <b>Subset 1</b>\n",
    "    <p>Modify the initial problem and solve the relaxation</p>\n",
    "</div>\n",
    "    \n",
    "<details>\n",
    "    <summary><b>Solution</b> (click to unfold)\n",
    "    </summary>\n",
    "\n",
    "<p>The optimum here has integer coordinates, so we have LB = 15. We cannot conclude yet, since the bound of the solution to our subproblem is smaller than the UB of the global problem: there may be a better solution in the second subset.</p>\n",
    "    \n",
    "</details>"
   ]
  },
  {
   "cell_type": "code",
   "execution_count": null,
   "id": "d157d7cd-cd0f-427c-b004-f31672ac59aa",
   "metadata": {},
   "outputs": [],
   "source": [
    "# %load solutions/code3.py"
   ]
  },
  {
   "cell_type": "markdown",
   "id": "4f1700b1-dec4-4fb1-b170-5e65575a2c1e",
   "metadata": {},
   "source": [
    "<div class=\"alert alert-warning\">\n",
    "    <b>Subset 2</b>\n",
    "    <p>Modify the initial problem and solve the relaxation</p>\n",
    "</div>\n",
    "    \n",
    "<details>\n",
    "    <summary><b>Solution</b> (click to unfold)\n",
    "    </summary>\n",
    "\n",
    "<p>In this subset, we do not have an integer solution, but we can update our upper bound to 15: there is no need to split the space further because whatever solution we may find, it will evaluate to a value $\\leq$ UB $ =\\lfloor 63/4 \\rfloor = 15$.</p>\n",
    "<p>This step is however sufficient to guarantee that we found a solution to our problem in previous step with LB = UB = 15.</p>\n",
    "    \n",
    "</details>"
   ]
  },
  {
   "cell_type": "code",
   "execution_count": null,
   "id": "363c3051-bc0d-4309-8c09-a8476f2ff5e1",
   "metadata": {},
   "outputs": [],
   "source": [
    "# %load solutions/code4.py"
   ]
  },
  {
   "cell_type": "code",
   "execution_count": null,
   "id": "fb271e09-b5f6-4ce2-b731-173a24c2343a",
   "metadata": {},
   "outputs": [],
   "source": []
  }
 ],
 "metadata": {
  "kernelspec": {
   "display_name": "Python 3 (ipykernel)",
   "language": "python",
   "name": "python3"
  },
  "language_info": {
   "codemirror_mode": {
    "name": "ipython",
    "version": 3
   },
   "file_extension": ".py",
   "mimetype": "text/x-python",
   "name": "python",
   "nbconvert_exporter": "python",
   "pygments_lexer": "ipython3",
   "version": "3.10.0"
  }
 },
 "nbformat": 4,
 "nbformat_minor": 5
}
