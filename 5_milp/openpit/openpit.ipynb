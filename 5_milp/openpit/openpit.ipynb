{
 "cells": [
  {
   "cell_type": "markdown",
   "metadata": {},
   "source": [
    "# BE Optimisation combinatoire: planification d'une mine à ciel ouvert\n",
    "\n",
    "Une mine à ciel ouvert est un type d'exploitation minière sans galerie sous-terraine, où on creuse progressivement le sol pour en extraire le minerai.\n",
    "\n",
    "<img src=\"./img/photo.jpg\" alt=\"Pit Mine\" style=\"width: 500px;\"/>\n",
    "\n",
    "Le positionnement dans le sol des zones intéressantes à prélever, ainsi que les pourcentages en minerai et la facilité ou difficulté de prélèvement, sont donnés par les études géologiques. L'extraction de minerai est réalisée par blocs élémentaires (que l'on supposera cubiques). Suivant le pourcentage en minerai et la facilité d'extraction, on associera un coût positif ou négatif à l'extraction du bloc. De plus, des considérations de séquence et de géométrie viennent contraindre l'extraction. \n",
    "\n",
    "L'objectif de ce BE est de modéliser et résoudre un problème de planification de l'exploitation d'une mine à ciel ouvert afin de déterminer :\n",
    "> -  l'ensemble des blocs à prélever pendant la durée d'exploitation de la mine\n",
    "\n",
    "> -  la séquence d'extraction de ces blocs.\n",
    "\n",
    "Pour cela, on utilisera la programmation linéaire en nombres entiers pour représenter les différentes contraintes et la fonction objectif.\n",
    "\n",
    "`Source : Michel Gamache, Recherche opérationnelle minière, cours de l'Ecole Polytechnique de Montréal département de génie des mines.`\n",
    "\n",
    "\n",
    "## 1. Détermination des contours ultimes de la mine\n",
    "Les contours ultimes d'une mine à ciel ouvert représentent les contours géométriques de la mine après son exploitation ou encore ils représentent l'allure de la mine à la fin de sa vie économique. Les contours optimaux sont ceux qui permettent de maximiser les profits.\n",
    "La détermination des contours ultimes d'une mine à ciel ouvert est essentielle pour une planification adéquate. elle permet entre autres d'estimer la quantité de minerai qu'il sera possible d'extraire du gisement, d'estimer la durée économique de l'exploitation, de planifier la dimension des installations de surface et de la machinerie et de planifier la capacité de production. La connaissance des contours permet également de planifier et d'organiser les séquences d'exploitation à court, moyen et long terme.\n",
    "\n",
    "### 1.1 Contraintes d'extraction\n",
    "La première contrainte à respecter est l'ordre d'extraction des blocs : chaque bloc ne peut être extrait que si les blocs qui le chapeautent dans le gisement sont extraits.\n",
    "<img src=\"./img/extract.png\" alt=\"Extract\" style=\"width: 250px;\"/>\n",
    "\n",
    "La seconde contrainte concerne la pente maximale des talus bordant la zone d'extraction. Dans ce\n",
    "travail, pour simplifier le problème, on considèrera que les blocs extraits sont cubiques et que la pente\n",
    "maximale est de 45°.\n",
    "\n",
    "### 1.2 Exemple\n",
    "Pour ce BE, nous allons travailler en deux dimensions, selon une section de la mine. La figure ci-dessous représente la section pour laquelle sont indiqués les coûts associés aux blocs. L'axe vertical représente la profondeur de la mine. La portion représentée en vert correspond à une zone de minerai, intéressante à exploiter. Lorsque les coûts sont positifs, leur extraction apporte un gain à la mine, sinon ils coûtent de l'argent. Mais pour extraire un bloc intéressant, il est nécessaire d'extraire tous les blocs qui sont au-dessus de lui (son \"cône d'extraction\"), donc globalement le bilan de son extraction peut ne pas être intéressant.\n",
    "\n",
    "<img src=\"./img/section.png\" alt=\"Section\" style=\"width: 600px;\"/>\n",
    "\n",
    "La détermination du contour ultime consiste à optimiser le revenu d'extraction de la mine, en respectant les contraintes d'extraction. La solution de l'exemple précédent est donnée ci-dessous. La valeur obtenue est 137.\n",
    "\n",
    "<img src=\"./img/section2.png\" alt=\"Contour ultime\" style=\"width: 600px;\"/>\n",
    "\n",
    "### 1.3 Modélisation\n",
    "Afin de résoudre ce problème d'optimisation en utilisant la programmation linéaire en nombres entiers, il faut choisir des variables de décision permettant d'écrire les différentes contraintes du problème ainsi que la fonction objectif sous la forme de relations linéaires. Pour cela, on utilisera des variables binaires $extract_{ij}$ permettant d'indiquer si un bloc est extrait ou non."
   ]
  },
  {
   "cell_type": "markdown",
   "metadata": {},
   "source": [
    "<div class=\"alert alert-warning\"> **Question :**<br>\n",
    "Les contraintes d'extraction d'un bloc $(ij)$ peuvent s'écrire de la manière suivante:\n",
    "\n",
    "$extract_{ij}\\Rightarrow extract_{i'j'} \\quad \\forall (i'j')\\in \\text{cône d'extraction de }(ij)$\n",
    "\n",
    "Modéliser ces contraintes sous la forme de relations linéaires impliquant les variables binaires $extract$.\n",
    "\n",
    "Préciser comment ces contraintes permettent de satisfaire les contraintes de pente maximale.\n",
    "<div>"
   ]
  },
  {
   "cell_type": "markdown",
   "metadata": {},
   "source": [
    "<div class=\"alert alert-danger\">\n",
    "**Réponse** :<br>\n",
    " \n",
    "</div>"
   ]
  },
  {
   "cell_type": "markdown",
   "metadata": {},
   "source": [
    "<div class=\"alert alert-warning\"> **Question :**<br>\n",
    "Ecrire la fonction objectif. Le tableau des valeurs de coût sera nommé \"mine\".\n",
    "<div>"
   ]
  },
  {
   "cell_type": "markdown",
   "metadata": {},
   "source": [
    "<div class=\"alert alert-danger\">\n",
    "**Réponse** :<br>\n",
    " \n",
    "</div>"
   ]
  },
  {
   "cell_type": "markdown",
   "metadata": {},
   "source": [
    "<div class=\"alert alert-warning\"> **Question :**<br>\n",
    "Ecrire le code Pulp permettant de résoudre le problème du contour ultime. Les données sont celles de l'exemple ci-dessus.\n",
    "\n",
    "Le code donné ci-dessous permet de représenter graphiquement la solution\n",
    "<div>"
   ]
  },
  {
   "cell_type": "code",
   "execution_count": 2,
   "metadata": {
    "collapsed": false,
    "jupyter": {
     "outputs_hidden": false
    }
   },
   "outputs": [
    {
     "data": {
      "text/plain": [
       "<matplotlib.colorbar.Colorbar at 0x10cc6c860>"
      ]
     },
     "execution_count": 2,
     "metadata": {},
     "output_type": "execute_result"
    },
    {
     "data": {
      "image/png": "[encoded data removed]",
      "text/plain": [
       "<matplotlib.figure.Figure at 0x109f6dda0>"
      ]
     },
     "metadata": {},
     "output_type": "display_data"
    }
   ],
   "source": [
    "import numpy as np\n",
    "%matplotlib inline\n",
    "import matplotlib.pyplot as plt\n",
    "\n",
    "mine = np.loadtxt(\"pitmine.txt\", dtype=int)\n",
    "levels, columns = mine.shape\n",
    "plt.imshow(mine, clim=(-4, 12), interpolation='none')\n",
    "plt.colorbar()\n",
    "\n",
    "### VOTRE CODE PULP ###\n",
    "\n",
    "\n",
    "### COMPLEMENT POUR TRACER LE CONTOUR ###\n",
    "# extraction = [ [extract[i, j].value() for j in range(columns)] for i in range(levels)]\n",
    "# plt.contour(extraction, levels=[0], cmap=plt.cm.binary)\n",
    "\n",
    "# pb.objective.value()"
   ]
  },
  {
   "cell_type": "markdown",
   "metadata": {},
   "source": [
    "<div class=\"alert alert-warning\"> **Question :**<br>\n",
    "Modifier le programme pour résoudre la relaxation linéaire du problème.\n",
    "<div>"
   ]
  },
  {
   "cell_type": "code",
   "execution_count": 2,
   "metadata": {
    "collapsed": false,
    "jupyter": {
     "outputs_hidden": false
    }
   },
   "outputs": [
    {
     "data": {
      "text/plain": [
       "<matplotlib.colorbar.Colorbar at 0x10cc6c860>"
      ]
     },
     "execution_count": 2,
     "metadata": {},
     "output_type": "execute_result"
    },
    {
     "data": {
      "image/png": "[encoded data removed]",
      "text/plain": [
       "<matplotlib.figure.Figure at 0x109f6dda0>"
      ]
     },
     "metadata": {},
     "output_type": "display_data"
    }
   ],
   "source": [
    "plt.imshow(mine, clim=(-4, 12), interpolation='none')\n",
    "plt.colorbar()\n",
    "\n",
    "### VOTRE CODE PULP ###\n",
    "\n",
    "\n",
    "### COMPLEMENT POUR TRACER LE CONTOUR ###\n",
    "# extraction = [ [extract[i, j].value() for j in range(columns)] for i in range(levels)]\n",
    "# plt.contour(extraction, levels=[0], cmap=plt.cm.binary)\n",
    "\n",
    "# pb.objective.value()"
   ]
  },
  {
   "cell_type": "markdown",
   "metadata": {},
   "source": [
    "<div class=\"alert alert-warning\"> **Question :**<br>\n",
    "Affichez les résultats pertinents.  \n",
    "Que peut-on conclure sur le problème de contour optimal ?\n",
    "<div>"
   ]
  },
  {
   "cell_type": "markdown",
   "metadata": {},
   "source": [
    "<div class=\"alert alert-danger\">\n",
    "**Réponse** :<br>\n",
    " \n",
    "</div>"
   ]
  },
  {
   "cell_type": "markdown",
   "metadata": {},
   "source": [
    "## 2. Détermination de la séquence annuelle de minage\n",
    "Ce problème de planification stratégique consiste à trouver les blocs qui seront extraits chaque\n",
    "année. Ceci revient à déterminer le contour de la mine chaque année. Ce problème est beaucoup plus\n",
    "difficile que le problème du contour ultime, car il ne suffit plus de déterminer si un bloc est extrait\n",
    "ou non, il faut en plus savoir quelle année il sera extrait. De plus, il faut tenir compte de contraintes\n",
    "additionnelles telles que la quantité minimale ou maximale de matière qui peut être extraite chaque\n",
    "année ou l'utilisation des équipements. \n",
    "\n",
    "### 2.1 Planification avec contrainte de capacité\n",
    "On considère uniquement une limite maximum sur le nombre de blocs qu'on peut extraire chaque année, fixée à 20 blocs. Pour modéliser le problème en PLNE, il faut ajouter la dimension temporelle au problème du contour ultime."
   ]
  },
  {
   "cell_type": "markdown",
   "metadata": {},
   "source": [
    "<div class=\"alert alert-warning\"> **Question :**<br>\n",
    "Quel est le nombre d'année minimum pour extraire les blocs de la solution précédente ?\n",
    "<div>"
   ]
  },
  {
   "cell_type": "markdown",
   "metadata": {},
   "source": [
    "<div class=\"alert alert-danger\">\n",
    "**Réponse** :<br>\n",
    " \n",
    "</div>"
   ]
  },
  {
   "cell_type": "markdown",
   "metadata": {},
   "source": [
    "<div class=\"alert alert-warning\"> **Question :**<br>\n",
    "Proposer de nouvelles variables d'extraction qui permettent de repérer si un bloc est extrait ou non l'année $n$.  \n",
    "<div>"
   ]
  },
  {
   "cell_type": "markdown",
   "metadata": {},
   "source": [
    "<div class=\"alert alert-danger\">\n",
    "**Réponse** :<br>\n",
    " \n",
    "</div>"
   ]
  },
  {
   "cell_type": "markdown",
   "metadata": {},
   "source": [
    "<div class=\"alert alert-warning\"> **Question :**<br>\n",
    "Récrire les contraintes d'extraction et la fonction objectif. Attention, un bloc extrait l'année $n$ le reste les années suivantes.\n",
    "<div>"
   ]
  },
  {
   "cell_type": "markdown",
   "metadata": {},
   "source": [
    "<div class=\"alert alert-danger\">\n",
    "**Réponse** :<br>\n",
    " \n",
    "</div>"
   ]
  },
  {
   "cell_type": "markdown",
   "metadata": {},
   "source": [
    "<div class=\"alert alert-warning\"> **Question :**<br>\n",
    "Ecrire le code Pulp permettant de résoudre le problème de planification\n",
    "\n",
    "<div>"
   ]
  },
  {
   "cell_type": "code",
   "execution_count": null,
   "metadata": {
    "collapsed": false,
    "jupyter": {
     "outputs_hidden": false
    },
    "scrolled": true
   },
   "outputs": [],
   "source": [
    "### VOTRE CODE PULP ###\n"
   ]
  },
  {
   "cell_type": "markdown",
   "metadata": {},
   "source": [
    "<div class=\"alert alert-warning\"> **Question :**<br>\n",
    "Commentez les résultats obtenus.\n",
    "<div>"
   ]
  },
  {
   "cell_type": "markdown",
   "metadata": {},
   "source": [
    "<div class=\"alert alert-danger\">\n",
    "**Réponse** :<br>\n",
    " \n",
    "</div>"
   ]
  },
  {
   "cell_type": "markdown",
   "metadata": {},
   "source": [
    "### 2.2 Planification avec contrainte de capacité et actualisation\n",
    "Même problème que précédemment, mais on prend en compte la notion d'actualisation. On considère un taux d'actualisation de $9\\%$: le bloc $(i,j)$ extrait l'année $k$ avec un bénéfice de $mine(i,j)$ rapportera seulement $mine(i,j)/(1+0,09)$ l'année suivante.\n"
   ]
  },
  {
   "cell_type": "markdown",
   "metadata": {},
   "source": [
    "<div class=\"alert alert-warning\"> **Question :**<br>\n",
    "Ecrire le code Pulp permettant de résoudre le problème de planification\n",
    "\n",
    "<div>"
   ]
  },
  {
   "cell_type": "code",
   "execution_count": null,
   "metadata": {
    "collapsed": false,
    "jupyter": {
     "outputs_hidden": false
    },
    "scrolled": true
   },
   "outputs": [],
   "source": [
    "### VOTRE CODE PULP ###\n"
   ]
  },
  {
   "cell_type": "markdown",
   "metadata": {},
   "source": [
    "<div class=\"alert alert-warning\"> **Question :**<br>\n",
    "Commentez les résultats obtenus.\n",
    "<div>"
   ]
  },
  {
   "cell_type": "markdown",
   "metadata": {},
   "source": [
    "<div class=\"alert alert-danger\">\n",
    "**Réponse** :<br>\n",
    " \n",
    "</div>"
   ]
  }
 ],
 "metadata": {
  "kernelspec": {
   "display_name": "Python 3 (ipykernel)",
   "language": "python",
   "name": "python3"
  },
  "language_info": {
   "codemirror_mode": {
    "name": "ipython",
    "version": 3
   },
   "file_extension": ".py",
   "mimetype": "text/x-python",
   "name": "python",
   "nbconvert_exporter": "python",
   "pygments_lexer": "ipython3",
   "version": "3.11.5"
  }
 },
 "nbformat": 4,
 "nbformat_minor": 4
}
